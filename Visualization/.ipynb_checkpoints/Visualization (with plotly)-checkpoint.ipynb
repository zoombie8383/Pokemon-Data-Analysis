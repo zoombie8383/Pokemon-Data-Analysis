{
 "cells": [
  {
   "cell_type": "markdown",
   "metadata": {},
   "source": [
    "# Overview\n",
    "This project is referring Siddarth Yadav's kernel showing the popular visualization library plotly using the pokemon dataset. We can practice various rare visualization techniques as well as simple techniques with plotly library."
   ]
  },
  {
   "cell_type": "markdown",
   "metadata": {},
   "source": [
    "# Why plotly\n",
    "Plotly provides a wide range of interactive plotting options and is one of the most interactive python visualization libraries. Highly recommended for usage. "
   ]
  },
  {
   "cell_type": "markdown",
   "metadata": {},
   "source": [
    "# Pokemon Dataset\n",
    "This data set includes 800 Pokemon, including their number, name, first and second type, and basic stats: HP, Attack, Defense, Special Attacks, Special Defense, and Speed. It has been of great use when teaching statistics to kids.\n",
    "\n",
    "The data as described by Myles O'Neil is:\n",
    "'#': ID for each pokemon\n",
    "Name: Name of each pokemon\n",
    "Type 1: Each pokemon has a type, this determines weakness/resistance to attacks\n",
    "\n",
    "Type 2: Some pokemon are dual type and have 2\n",
    "\n",
    "HP: hit points, or health, defines how much damage a pokemon can withstand before fainting\n",
    "\n",
    "Attack: the base modifier for normal attacks (eg. Scratch, Punch)\n",
    "\n",
    "Defense: the base damage resistance against normal attacks\n",
    "\n",
    "SP Atk: special attack, the base modifier for special attacks (e.g. fire blast, bubble beam)\n",
    "\n",
    "SP Def: The base damage resistance against special attacks\n",
    "\n",
    "Speed: Determines which pokemon attacks first each round"
   ]
  },
  {
   "cell_type": "code",
   "execution_count": 1,
   "metadata": {},
   "outputs": [
    {
     "data": {
      "text/html": [
       "<script>requirejs.config({paths: { 'plotly': ['https://cdn.plot.ly/plotly-latest.min']},});if(!window.Plotly) {{require(['plotly'],function(plotly) {window.Plotly=plotly;});}}</script>"
      ],
      "text/vnd.plotly.v1+html": [
       "<script>requirejs.config({paths: { 'plotly': ['https://cdn.plot.ly/plotly-latest.min']},});if(!window.Plotly) {{require(['plotly'],function(plotly) {window.Plotly=plotly;});}}</script>"
      ]
     },
     "metadata": {},
     "output_type": "display_data"
    },
    {
     "ename": "ModuleNotFoundError",
     "evalue": "No module named 'pd'",
     "output_type": "error",
     "traceback": [
      "\u001b[0;31m---------------------------------------------------------------------------\u001b[0m",
      "\u001b[0;31mModuleNotFoundError\u001b[0m                       Traceback (most recent call last)",
      "\u001b[0;32m<ipython-input-1-b941826f2365>\u001b[0m in \u001b[0;36m<module>\u001b[0;34m\u001b[0m\n\u001b[1;32m      9\u001b[0m \u001b[0;32mimport\u001b[0m \u001b[0mplotly\u001b[0m\u001b[0;34m.\u001b[0m\u001b[0mfigure_factory\u001b[0m \u001b[0;32mas\u001b[0m \u001b[0mff\u001b[0m\u001b[0;34m\u001b[0m\u001b[0;34m\u001b[0m\u001b[0m\n\u001b[1;32m     10\u001b[0m \u001b[0;32mfrom\u001b[0m \u001b[0mIPython\u001b[0m\u001b[0;34m.\u001b[0m\u001b[0mdisplay\u001b[0m \u001b[0;32mimport\u001b[0m \u001b[0mHTML\u001b[0m\u001b[0;34m,\u001b[0m \u001b[0mImage\u001b[0m\u001b[0;34m\u001b[0m\u001b[0;34m\u001b[0m\u001b[0m\n\u001b[0;32m---> 11\u001b[0;31m \u001b[0;32mimport\u001b[0m \u001b[0mpd\u001b[0m\u001b[0;34m.\u001b[0m\u001b[0mread\u001b[0m\u001b[0;34m.\u001b[0m\u001b[0mcsv\u001b[0m\u001b[0;34m\u001b[0m\u001b[0;34m\u001b[0m\u001b[0m\n\u001b[0m",
      "\u001b[0;31mModuleNotFoundError\u001b[0m: No module named 'pd'"
     ]
    }
   ],
   "source": [
    "import numpy as np\n",
    "import pandas as pd\n",
    "import matplotlib.pyplot as plt\n",
    "from plotly import tools\n",
    "import plotly.plotly as py\n",
    "from plotly.offline import init_notebook_mode, iplot\n",
    "init_notebook_mode(connected=True)\n",
    "import plotly.graph_objs as go\n",
    "import plotly.figure_factory as ff\n",
    "from IPython.display import HTML, Image\n",
    "import pd.read.csv"
   ]
  },
  {
   "cell_type": "markdown",
   "metadata": {},
   "source": [
    "# Importing, Modifying the Dataset\n",
    "Reading the pokemon dataset with pandas, and filling in the \"Not Available\" Values"
   ]
  },
  {
   "cell_type": "code",
   "execution_count": null,
   "metadata": {},
   "outputs": [],
   "source": [
    "pokemon = pd.read_csv(\"Inputs/pokemon.csv\")\n",
    "pokemon"
   ]
  },
  {
   "cell_type": "code",
   "execution_count": null,
   "metadata": {},
   "outputs": [],
   "source": [
    "pokemon.info()"
   ]
  },
  {
   "cell_type": "code",
   "execution_count": null,
   "metadata": {},
   "outputs": [],
   "source": [
    "# Almost half of the Type 2 attribute is empty but it's because many pokemon have only one type. Still we will fill this with 'Blank'\n",
    "pokemon = pokemon.fillna(value={'Type 2': 'Blank'})\n",
    "pokemon.head()"
   ]
  },
  {
   "cell_type": "code",
   "execution_count": null,
   "metadata": {},
   "outputs": [],
   "source": [
    "pokemon = pokemon.rename(index=str, columns={\"#\": \"Number\"})\n",
    "pokemon = pokemon.fillna(value={'Name': 'Primeape'})\n",
    "pokemon[60:65]"
   ]
  },
  {
   "cell_type": "markdown",
   "metadata": {},
   "source": [
    "# Distplot\n",
    "Distplots are used to plot a univariate distribution of observations. This basically plots a histogram and fits a kernel density estimate(kde) and rug plug on it."
   ]
  },
  {
   "cell_type": "markdown",
   "metadata": {},
   "source": [
    "### HP Distplot"
   ]
  },
  {
   "cell_type": "code",
   "execution_count": null,
   "metadata": {
    "scrolled": true
   },
   "outputs": [],
   "source": [
    "fig = ff.create_distplot([pokemon.HP],['HP'],bin_size=4)\n",
    "iplot(fig, filename='Basic HP Distplot')"
   ]
  },
  {
   "cell_type": "markdown",
   "metadata": {},
   "source": [
    "### Distplot of Generation \n",
    "Generation stats are evenly distributed."
   ]
  },
  {
   "cell_type": "code",
   "execution_count": null,
   "metadata": {},
   "outputs": [],
   "source": [
    "hist_data = [pokemon['HP'],pokemon['Attack'],pokemon['Defense'],pokemon['Sp. Atk'],pokemon['Sp. Def'],pokemon['Speed']]\n",
    "group_labels = list(pokemon.iloc[:,4:10].columns)\n",
    "                                 \n",
    "fig = ff.create_distplot(hist_data, group_labels, bin_size =5)\n",
    "iplot(fig, filename='Distplot of all pokemon stats')"
   ]
  },
  {
   "cell_type": "markdown",
   "metadata": {},
   "source": [
    "# Boxplot\n",
    "A boxplot is a simple way of representing statistical data on a plot in which a rectangle is drawn to represent the second and third quartiles, usually with a vertical line inside to indicate the median value. The lower and uppoer quartiles are shown as horizontal lines either side of the rectangle. \n",
    "\n",
    "**Definitions**\n",
    "* Median (50th percentile) = middle value of the data set. Sort and take the data in the middle. It is also called 50% percentile that is 50% of data are less that median (50th quartile) (quartile)\n",
    "* 25th percentile = quartile 1 (Q1) that is lower quartile\n",
    "* 75th percentile = quartile 3(Q3) that is higher quartile\n",
    "* height of box = IQR interquartile = interquartile range = Q3 - Q1\n",
    "* Whiskers = 1.5 * IQR from the Q1 and Q3\n",
    "* Outliers = being more than 1.5*IQR away from median commonly. \n",
    "\n",
    "**Elements**\n",
    "* trace = box\n",
    "* y = data we want to visualize with box plot\n",
    "* marker = color"
   ]
  },
  {
   "cell_type": "markdown",
   "metadata": {},
   "source": [
    "### 2.1 Boxplots of all stats"
   ]
  },
  {
   "cell_type": "code",
   "execution_count": null,
   "metadata": {},
   "outputs": [],
   "source": [
    "trace0 = go.Box(y=pokemon[\"HP\"],name=\"HP\")\n",
    "trace1 = go.Box(y=pokemon[\"Attack\"],name=\"Attack\")\n",
    "trace2 = go.Box(y=pokemon[\"Defense\"],name=\"Defense\")\n",
    "trace3 = go.Box(y=pokemon[\"Sp. Atk\"],name=\"Sp. Atk\")\n",
    "trace4 = go.Box(y=pokemon[\"Sp. Def\"],name=\"Sp. Def\")\n",
    "trace5 = go.Box(y=pokemon[\"Speed\"],name=\"Speed\")\n",
    "Box = [trace0, trace1, trace2, trace3, trace4, trace5]\n",
    "iplot(Box)"
   ]
  },
  {
   "cell_type": "markdown",
   "metadata": {},
   "source": [
    "### Customized boxplots\n",
    "trace 0: Add mean.\n",
    "trace 1: Add mean and standard variation\n",
    "trace 2: Draw all the points\n",
    "trace 3: Only whisker\n",
    "trace 4: Detect suspected outliers\n",
    "trace 5: Whisker and outliers"
   ]
  },
  {
   "cell_type": "code",
   "execution_count": null,
   "metadata": {},
   "outputs": [],
   "source": [
    "trace0 = go.Box(\n",
    "    y=pokemon[\"HP\"],\n",
    "    boxmean = True,\n",
    "    name = \"HP(with Mean)\"\n",
    ")\n",
    "trace1 = go.Box(\n",
    "    y = pokemon[\"Attack\"],\n",
    "    boxmean = 'sd',\n",
    "    name = \"Attack(Mean and SD)\"\n",
    ")\n",
    "trace2 = go.Box(\n",
    "    y = pokemon[\"Defense\"],\n",
    "    jitter = 0.5,\n",
    "    pointpos = -2,\n",
    "    boxpoints = 'all',\n",
    "    name = \"Defense(All points)\"\n",
    ")\n",
    "trace3 = go.Box(\n",
    "    y = pokemon[\"Sp. Atk\"],\n",
    "    boxmean = False,\n",
    "    name = \"Sp.Atk(Only Whiskers)\"\n",
    ")\n",
    "trace4 = go.Box(\n",
    "    y = pokemon[\"Sp. Def\"],\n",
    "    boxpoints = 'suspectedoutliers',\n",
    "    marker = dict(\n",
    "        outliercolor = 'rgba(219, 64, 82, 0.6)',\n",
    "        line = dict(\n",
    "            outliercolor = 'rgba(219, 64, 82, 0.6)',\n",
    "            outlierwidth = 2\n",
    "        )\n",
    "    ),\n",
    "    line = dict(\n",
    "        color = 'rgb(8, 81, 156)'\n",
    "    ),\n",
    "    name = 'Sp.Def(Suspected Outliers)'\n",
    ")\n",
    "trace5 = go.Box(\n",
    "    y = pokemon[\"Speed\"],\n",
    "    boxpoints = \"outliers\",\n",
    "    line = dict(\n",
    "        color = 'rgb(107, 174, 214)'\n",
    "    ), \n",
    "    name = \"Speed(Whiskers and Outliers)\"\n",
    ")\n",
    "\n",
    "layout = go.Layout(\n",
    "    title = \"Boxplot with customized outliers\"\n",
    ")\n",
    "data = [trace0, trace1, trace2, trace3, trace4, trace5]\n",
    "fig = go.Figure(data = data, layout = layout)\n",
    "iplot(fig, filename = \"Customized Boxplot\")"
   ]
  },
  {
   "cell_type": "markdown",
   "metadata": {},
   "source": [
    "### Radar Charts\n",
    "A radar chart is a graphical method of displaying multrivariate data in the form of a two-dimensional chart of three or more quantitative chart of three or more quantitative variables represented on axes starting from the same point. The relative position and angle of the axes is typically uninformative.\n",
    "\n",
    "Source : [Radar Chart(Wikipedia)](https://en.wikipedia.org/wiki/Radar_chart)"
   ]
  },
  {
   "cell_type": "code",
   "execution_count": null,
   "metadata": {},
   "outputs": [],
   "source": [
    "poke = pokemon[pokemon['Name'] == 'Charizard']\n",
    "trace0 = go.Scatterpolar(\n",
    "    r = [poke['HP'].values[0],poke['Attack'].values[0],poke['Defense'].values[0],\n",
    "         poke['Sp. Atk'].values[0],poke['Sp. Def'].values[0],poke['Speed'].values[0],\n",
    "         poke[\"HP\"].values[0]],\n",
    "    theta = ['HP', 'Attack', 'Defense', 'Sp. Atk', 'Sp. Def', 'Speed', 'HP'],\n",
    "    fill = 'toself',\n",
    "    name = poke.Name.values[0]\n",
    ")\n",
    "\n",
    "data = [trace0]\n",
    "layout = go.Layout(\n",
    "    polar = dict(\n",
    "        radialaxis = dict(\n",
    "        visible = True,\n",
    "            range = [0,120]\n",
    "        )\n",
    "    ),\n",
    "    showlegend = True,\n",
    "    title = \"Stats of {}\".format(poke.Name.values[0])\n",
    ")\n",
    "fig = go.Figure(data=data, layout=layout)\n",
    "iplot(fig, filename = \"Single Pokemon stats\")"
   ]
  },
  {
   "cell_type": "markdown",
   "metadata": {},
   "source": [
    "### Comparing stats of two pokemon"
   ]
  },
  {
   "cell_type": "code",
   "execution_count": null,
   "metadata": {
    "scrolled": true
   },
   "outputs": [],
   "source": [
    "def compare2pokemon(name1, name2):\n",
    "    poke1 = pokemon[pokemon['Name'] == name1]\n",
    "    trace0 = go.Scatterpolar(\n",
    "        r = [poke1['HP'].values[0],poke1['Attack'].values[0],poke1['Defense'].values[0],\n",
    "             poke1['Sp. Atk'].values[0],poke1['Sp. Def'].values[0],poke1['Speed'].values[0],\n",
    "             poke1[\"HP\"].values[0]],\n",
    "        theta = ['HP', 'Attack', 'Defense', 'Sp. Atk', 'Sp. Def', 'Speed', 'HP'],\n",
    "        fill = 'toself',\n",
    "        name = name1\n",
    "    )\n",
    "    \n",
    "    poke2 = pokemon[pokemon['Name'] == name2]            \n",
    "    trace1 = go.Scatterpolar(\n",
    "        r = [poke2['HP'].values[0],poke2['Attack'].values[0],poke2['Defense'].values[0],\n",
    "             poke2['Sp. Atk'].values[0],poke2['Sp. Def'].values[0],poke2['Speed'].values[0],\n",
    "             poke2[\"HP\"].values[0]],\n",
    "        theta = ['HP', 'Attack', 'Defense', 'Sp. Atk', 'Sp. Def', 'Speed', 'HP'],\n",
    "        fill = 'toself',\n",
    "        name = name2\n",
    "      \n",
    "        \n",
    "    )\n",
    "\n",
    "    data = [trace0,trace1]\n",
    "    layout = go.Layout(\n",
    "        polar = dict(\n",
    "            radialaxis = dict(\n",
    "            visible = True,\n",
    "                range = [0,200]\n",
    "            )\n",
    "        ),\n",
    "        showlegend = True,\n",
    "        title = \"Comparison of {} and {}\".format(name1, name2)\n",
    "    )\n",
    "    fig = go.Figure(data=data, layout=layout)\n",
    "    iplot(fig, filename = \"Comparison of two stats\")\n",
    "compare2pokemon(\"Mewtwo\", \"Garchomp\")\n",
    "            "
   ]
  },
  {
   "cell_type": "markdown",
   "metadata": {},
   "source": [
    "# Scatterplot\n",
    "A scatter plot (also called a scatterplot, scatter graph, scatter chart, scattergram, or scatter diagram) is a type of plot or mathematical diagram using Cartesian coordinates to display values for typically two variables for a set of data. If the points are coded (color/shape/size), one additional variable can be displayed. The data are displayed as a collection of points, each having the value of one variable determining the position on the horizontal axis and the value of the other variable determining the position on the vertical axis.\n",
    "[Source: wikipedia](https://en.wikipedia.org/wiki/Scatter_plot)"
   ]
  },
  {
   "cell_type": "markdown",
   "metadata": {},
   "source": [
    "### 2D scatterplot\n",
    "Add colorscale with the speed to make the plot 3D."
   ]
  },
  {
   "cell_type": "code",
   "execution_count": null,
   "metadata": {},
   "outputs": [],
   "source": [
    "trace0 = go.Scatter(\n",
    "    x = pokemon[\"Defense\"],\n",
    "    y = pokemon[\"Attack\"],\n",
    "    mode = 'markers',\n",
    "    marker = dict(\n",
    "    size = 16,\n",
    "        color = pokemon[\"Speed\"],\n",
    "        colorscale = 'Electric',\n",
    "        showscale = True\n",
    "    ),\n",
    "    text = pokemon[\"Name\"]\n",
    "   \n",
    ")\n",
    "data = [trace0]\n",
    "layout = go.Layout(\n",
    "    paper_bgcolor = 'rgba(0, 0, 0, 1)',\n",
    "    plot_bgcolor = 'rgba(0, 0, 0, 1)',\n",
    "    showlegend = False,\n",
    "    font=dict(family='Courier New, monospace', size=10, color='#ffffff'),\n",
    "    title=\"Scatter plot of Defense vs Attack with Speed as colorscale\"\n",
    ")\n",
    "fig = go.Figure(data = data, layout = layout)\n",
    "iplot(fig, filename = \"Scatterplot\")"
   ]
  },
  {
   "cell_type": "markdown",
   "metadata": {},
   "source": [
    "### 3D scatterplot\n",
    "Add an additional z-axis to make the plot 3D."
   ]
  },
  {
   "cell_type": "code",
   "execution_count": null,
   "metadata": {},
   "outputs": [],
   "source": [
    "trace0 = go.Scatter3d(\n",
    "    x = pokemon[\"Speed\"],\n",
    "    y = pokemon[\"Attack\"],\n",
    "    z = pokemon[\"Defense\"],\n",
    "    mode = 'markers',\n",
    "    marker=dict(\n",
    "    size = 4,\n",
    "    line = dict(\n",
    "        color = 'rgba(217, 217, 217, 0.14)',\n",
    "        width=0.5\n",
    "    ),\n",
    "        opacity=1\n",
    "    )\n",
    ")\n",
    "data = [trace0]\n",
    "layout = go.Layout(\n",
    "    margin = dict(\n",
    "        l=0,\n",
    "        r=0,\n",
    "        b=0,\n",
    "        t=0,\n",
    "    ),\n",
    "    xaxis = dict (title = \"Speed\"),\n",
    "    yaxis = dict(title = \"Attack\"),\n",
    "    title = \"Speed vs Attack vs Defense\"\n",
    ")\n",
    "fig = go.Figure(data = data, layout = layout)\n",
    "iplot(fig,filename = '3d-scatter')\n",
    "    \n",
    "    \n"
   ]
  },
  {
   "cell_type": "markdown",
   "metadata": {},
   "source": [
    "# Contour Plot\n",
    "\n",
    "Contour plots (sometimes called Level Plots) are a way to show a three-dimensional surface on a two-dimensional plane. It graphs two predictor variables X Y on the y-axis and a response variable Z as contours. These contours are sometimes called z-slices or iso-response values.\n",
    "\n",
    "This type of graph is widely used in cartography, where contour lines on a topological map indicate elevations that are the same. Many other disciples use contour graphs including: astrology, meteorology, and physics. Contour lines commonly show altitude (like height of a geographical features), but they can also be used to show density, brightness, or electric potential.\n",
    "\n",
    "[source] (https://www.statisticshowto.com/contour-plots/)"
   ]
  },
  {
   "cell_type": "markdown",
   "metadata": {},
   "source": [
    "### Contour plot for distribution of bug pokemon"
   ]
  },
  {
   "cell_type": "code",
   "execution_count": null,
   "metadata": {
    "scrolled": true
   },
   "outputs": [],
   "source": [
    "trace_contour = go.Contour(\n",
    "    x = ['HP', 'Attack', 'Defense', 'Sp. Atk', 'Sp.Def', 'Speed'],\n",
    "    z = pokemon[pokemon[\"Type 1\"] == 'Bug'].iloc[:, 4:10].values,\n",
    "    colorscale = 'Jet',\n",
    ")\n",
    "data = [trace_contour]\n",
    "layout = go.Layout(\n",
    "    title = \"Distribution of Bug pokemon (Contour chart)\",\n",
    "    width = 600,\n",
    "    height = 800\n",
    ")\n",
    "\n",
    "fig = go.Figure(data = data, layout = layout)\n",
    "iplot(fig, filename = 'bug-contour')"
   ]
  },
  {
   "cell_type": "markdown",
   "metadata": {},
   "source": [
    "### Contour plot for Contour chart for depicting density (and distribution) of Defense, Speed, Sp. Attack, Sp. Defense of different generations of pokemon based on their Speed, Attack"
   ]
  },
  {
   "cell_type": "code",
   "execution_count": null,
   "metadata": {},
   "outputs": [],
   "source": [
    "gen1 = go.Contour(\n",
    "    x = pokemon[pokemon[\"Generation\"] == 1].iloc[:, 4].values,\n",
    "    y = pokemon[pokemon[\"Generation\"] == 1].iloc[:, 5].values,\n",
    "    z = pokemon[pokemon[\"Generation\"] == 1].iloc[:, 6:10].values,\n",
    "    name = \"Generation 1\",\n",
    "    showscale = False,\n",
    ")\n",
    "gen2 = go.Contour(                                           \n",
    "    x = pokemon[pokemon[\"Generation\"] == 2].iloc[:, 4].values,\n",
    "    y = pokemon[pokemon[\"Generation\"] == 2].iloc[:, 5].values,\n",
    "    z = pokemon[pokemon[\"Generation\"] == 2].iloc[:, 6:10].values,\n",
    "    name = \"Generation 2\",\n",
    "    showscale = False,\n",
    ")\n",
    "gen3 = go.Contour(\n",
    "    x = pokemon[pokemon[\"Generation\"] == 3].iloc[:, 4].values,\n",
    "    y = pokemon[pokemon[\"Generation\"] == 3].iloc[:, 5].values,\n",
    "    z = pokemon[pokemon[\"Generation\"] == 3].iloc[:, 6:10].values,\n",
    "    name = \"Generation 3\",\n",
    "    showscale = False,\n",
    ")\n",
    "gen4 = go.Contour(\n",
    "    x = pokemon[pokemon[\"Generation\"] == 4].iloc[:, 4].values,\n",
    "    y = pokemon[pokemon[\"Generation\"] == 4].iloc[:, 5].values,\n",
    "    z = pokemon[pokemon[\"Generation\"] == 4].iloc[:, 6:10].values,\n",
    "    name = \"Generation 4\",\n",
    "    showscale = False,\n",
    ")\n",
    "gen5 = go.Contour(\n",
    "    x = pokemon[pokemon[\"Generation\"] == 5].iloc[:, 4].values,\n",
    "    y = pokemon[pokemon[\"Generation\"] == 5].iloc[:, 5].values,\n",
    "    z = pokemon[pokemon[\"Generation\"] == 5].iloc[:, 6:10].values,\n",
    "    name = \"Generation 5\",\n",
    "    showscale = False,\n",
    ")\n",
    "gen6 = go.Contour(\n",
    "    x = pokemon[pokemon[\"Generation\"] == 6].iloc[:, 4].values,\n",
    "    y = pokemon[pokemon[\"Generation\"] == 6].iloc[:, 5].values,\n",
    "    z = pokemon[pokemon[\"Generation\"] == 6].iloc[:, 6:10].values,\n",
    "    name = \"Generation 6\",\n",
    "    showscale = False,\n",
    ")\n",
    "\n",
    "fig = tools.make_subplots(rows=1, cols=6, subplot_titles=('Generation 1', 'Generation 2', 'Generation 3', 'Generation 4', 'Generation 5', 'Generation 6'), shared_yaxes=True)\n",
    "\n",
    "fig.append_trace(gen1, 1, 1)\n",
    "fig.append_trace(gen2, 1, 2)\n",
    "fig.append_trace(gen3, 1, 3)\n",
    "fig.append_trace(gen4, 1, 4)\n",
    "fig.append_trace(gen5, 1, 5)\n",
    "fig.append_trace(gen6, 1, 6)\n",
    "\n",
    "fig['layout'].update(height=600, \n",
    "                     width=800, \n",
    "                     title='Contour subplots for different generations',\n",
    "                     paper_bgcolor='rgba(0,0,0,1)',\n",
    "                     plot_bgcolor='rgba(0,0,0,1)',\n",
    "                     font=dict(size=12, \n",
    "                     color='#ffffff'),\n",
    "                     showlegend=True,\n",
    "                     margin=go.Margin(\n",
    "                     l=50,\n",
    "                     r=50,\n",
    "                     b=100,\n",
    "                     t=100,\n",
    "                     pad=4,\n",
    "                 ),\n",
    "                 xaxis=dict(\n",
    "                        domain=[0, 0.1]\n",
    "                 ),\n",
    "                xaxis2=dict(\n",
    "                        domain=[0.15, 0.30]\n",
    "                ),\n",
    "                xaxis3=dict(\n",
    "                        domain=[0.35, 0.45]\n",
    "                ),  \n",
    "                xaxis4=dict(\n",
    "                        domain=[0.5, 0.6]\n",
    "                ),            \n",
    "                xaxis5=dict(\n",
    "                        domain=[0.65, 0.75]\n",
    "                ),  \n",
    "                xaxis6=dict(\n",
    "                        domain=[0.85, 1]\n",
    "                )\n",
    " )\n",
    "iplot(fig, filename='contour-subplots')"
   ]
  },
  {
   "cell_type": "markdown",
   "metadata": {},
   "source": [
    "# Bubble Plot\n",
    "A bubble plot is a scatterplot where a third dimension is added: the value of an additional numeric variable is represented through the size of the dots.\n",
    "\n",
    "You need 3 numerical variables as input: one is represented by the X axis, one by the Y axis, and one by the dot size.\n",
    "[source](https://www.data-to-viz.com/graph/bubble.html)"
   ]
  },
  {
   "cell_type": "markdown",
   "metadata": {},
   "source": [
    "### Bubble plot with Attack on X-axis, Defense on Y-axis, and HP as size for the fire pokemon"
   ]
  },
  {
   "cell_type": "code",
   "execution_count": null,
   "metadata": {},
   "outputs": [],
   "source": [
    "sizeref = 2.*max(pokemon['HP'])/(3000)\n",
    "trace0 = go.Scatter(\n",
    "    x = pokemon['Attack'][pokemon['Type 1'] == 'Fire'][pokemon['Generation'] == 1],\n",
    "    y = pokemon['Defense'][pokemon['Type 1'] == 'Fire'][pokemon['Generation'] == 1],\n",
    "    mode = 'markers',\n",
    "    name = 'Generation 1',\n",
    "    text = pokemon['Name'][pokemon['Type 1'] == 'Fire'][pokemon['Generation'] == 1],\n",
    "    marker = dict(\n",
    "        symbol = 'circle',\n",
    "        sizemode = 'area',\n",
    "        size = pokemon['HP'][pokemon['Type 1'] == 'Fire'][pokemon['Generation'] == 1],\n",
    "        sizeref = sizeref,\n",
    "        line = dict(width = 2),\n",
    "    )\n",
    "    )\n",
    "sizeref = 2.*max(pokemon['HP'])/(3000)\n",
    "trace1 = go.Scatter(\n",
    "    x = pokemon['Attack'][pokemon['Type 1'] == 'Fire'][pokemon['Generation'] == 2],\n",
    "    y = pokemon['Defense'][pokemon['Type 1'] == 'Fire'][pokemon['Generation'] == 2],\n",
    "    mode = 'markers',\n",
    "    name = 'Generation 2',\n",
    "    text = pokemon['Name'][pokemon['Type 1'] == 'Fire'][pokemon['Generation'] == 2],\n",
    "    marker = dict(\n",
    "        symbol = 'circle',\n",
    "        sizemode = 'area',\n",
    "        size = pokemon['HP'][pokemon['Type 1'] == 'Fire'][pokemon['Generation'] == 2],\n",
    "        sizeref = sizeref,\n",
    "        line = dict(width = 2),\n",
    "    )\n",
    "    )\n",
    "sizeref = 2.*max(pokemon['HP'])/(3000)\n",
    "trace2 = go.Scatter(\n",
    "    x = pokemon['Attack'][pokemon['Type 1'] == 'Fire'][pokemon['Generation'] == 3],\n",
    "    y = pokemon['Defense'][pokemon['Type 1'] == 'Fire'][pokemon['Generation'] == 3],\n",
    "    mode = 'markers',\n",
    "    name = 'Generation 3',\n",
    "    text = pokemon['Name'][pokemon['Type 1'] == 'Fire'][pokemon['Generation'] == 3],\n",
    "    marker = dict(\n",
    "        symbol = 'circle',\n",
    "        sizemode = 'area',\n",
    "        size = pokemon['HP'][pokemon['Type 1'] == 'Fire'][pokemon['Generation'] == 3],\n",
    "        sizeref = sizeref,\n",
    "        line = dict(width = 2),\n",
    "    )\n",
    "    )\n",
    "sizeref = 2.*max(pokemon['HP'])/(3000)\n",
    "trace3 = go.Scatter(\n",
    "    x = pokemon['Attack'][pokemon['Type 1'] == 'Fire'][pokemon['Generation'] == 4],\n",
    "    y = pokemon['Defense'][pokemon['Type 1'] == 'Fire'][pokemon['Generation'] == 4],\n",
    "    mode = 'markers',\n",
    "    name = 'Generation 1',\n",
    "    text = pokemon['Name'][pokemon['Type 1'] == 'Fire'][pokemon['Generation'] == 4],\n",
    "    marker = dict(\n",
    "        symbol = 'circle',\n",
    "        sizemode = 'area',\n",
    "        size = pokemon['HP'][pokemon['Type 1'] == 'Fire'][pokemon['Generation'] == 4],\n",
    "        sizeref = sizeref,\n",
    "        line = dict(width = 2),\n",
    "    )\n",
    "    )\n",
    "sizeref = 2.*max(pokemon['HP'])/(3000)\n",
    "trace4 = go.Scatter(\n",
    "    x = pokemon['Attack'][pokemon['Type 1'] == 'Fire'][pokemon['Generation'] == 5],\n",
    "    y = pokemon['Defense'][pokemon['Type 1'] == 'Fire'][pokemon['Generation'] == 5],\n",
    "    mode = 'markers',\n",
    "    name = 'Generation 1',\n",
    "    text = pokemon['Name'][pokemon['Type 1'] == 'Fire'][pokemon['Generation'] == 5],\n",
    "    marker = dict(\n",
    "        symbol = 'circle',\n",
    "        sizemode = 'area',\n",
    "        size = pokemon['HP'][pokemon['Type 1'] == 'Fire'][pokemon['Generation'] == 5],\n",
    "        sizeref = sizeref,\n",
    "        line = dict(width = 2),\n",
    "    )\n",
    ")\n",
    "sizeref = 2.*max(pokemon['HP'])/(3000)\n",
    "trace5 = go.Scatter(\n",
    "    x = pokemon['Attack'][pokemon['Type 1'] == 'Fire'][pokemon['Generation'] == 6],\n",
    "    y = pokemon['Defense'][pokemon['Type 1'] == 'Fire'][pokemon['Generation'] == 6],\n",
    "    mode = 'markers',\n",
    "    name = 'Generation 1',\n",
    "    text = pokemon['Name'][pokemon['Type 1'] == 'Fire'][pokemon['Generation'] == 6],\n",
    "    marker = dict(\n",
    "        symbol = 'circle',\n",
    "        sizemode = 'area',\n",
    "        size = pokemon['HP'][pokemon['Type 1'] == 'Fire'][pokemon['Generation'] == 6],\n",
    "        sizeref = sizeref,\n",
    "        line = dict(width = 2),\n",
    "    )\n",
    "    )\n",
    "data = [trace0, trace1, trace2, trace3, trace4, trace5]\n",
    "layout = go.Layout(\n",
    "    title = 'Attack vs Defense of Fire pokemon for each generation',\n",
    "    xaxis = dict(\n",
    "            title = 'Attack',\n",
    "            gridcolor = 'rgb(255, 255, 255)',\n",
    "            range = [0, 200]\n",
    "    ),\n",
    "    yaxis = dict(\n",
    "    title = 'Defense',\n",
    "    gridcolor = 'rgb(243, 243, 243)',\n",
    "    range = [0,200]\n",
    "    ),\n",
    "   paper_bgcolor = 'rgb(243, 243, 243)',\n",
    "    plot_bgcolor = 'rgb(243, 243, 243)',\n",
    ")\n",
    "fig = go.Figure(data = data, layout = layout)\n",
    "iplot(fig, filename = \"bubble.png\")"
   ]
  },
  {
   "cell_type": "markdown",
   "metadata": {},
   "source": [
    "# Treemap\n",
    "A treemap is a visualization that displays hierarchically organized data as a set of nested rectangles, parent elements being tiled with their child elements. The sizes and colors of rectangles are proportional to the values of the data points they represent.\n",
    "\n",
    "[source](https://docs.anychart.com/Basic_Charts/Treemap_Chart)\n",
    "\n",
    "**Treemaps are often used in R kernels due to their interactivity. Python offers squarify to do the same. We can combine squarify and pyplot to plot treemaps.**"
   ]
  },
  {
   "cell_type": "code",
   "execution_count": null,
   "metadata": {},
   "outputs": [],
   "source": [
    "import squarify\n",
    "# these values define the coordinate system for the returned rectangles\n",
    "# the values will range from x to x + width and y to y + height\n",
    "x = 0\n",
    "y = 0\n",
    "width = 50\n",
    "height = 50\n",
    "type_list = (pokemon['Type 1'].unique())\n",
    "values = [len(pokemon[pokemon['Type 1'] == i]) for i in type_list]\n",
    "          \n",
    "normed = squarify.normalize_sizes(values, width, height)\n",
    "rects = squarify.squarify(normed, x, y, width, height)\n",
    "\n",
    "color_brewer = ('#2D3142','#4F5D75','#BFC0C0','#F2D7EE','#EF8354','#839788','#EEE0CB','#BAA898','#BFD7EA','#685044','#E9AFA3','#99B2DD','#F9DEC9','#3A405A','#494949','#FF5D73','#7C7A7A','#CF5C36','#EFC88B')\n",
    "shapes = []\n",
    "annotations = []\n",
    "counter = 0\n",
    "\n",
    "for r in rects:\n",
    "    shapes.append(\n",
    "        dict(\n",
    "            type = 'rect',\n",
    "            x0 = r['x'],\n",
    "            y0 = r['y'],\n",
    "            x1 = r['x'] + r['dx'],\n",
    "            y1 = r['y'] + r['dy'],\n",
    "            line = dict(width =2),\n",
    "            fillcolor = color_brewer[counter]\n",
    "        )\n",
    "    )\n",
    "    annotations.append(\n",
    "        dict(\n",
    "            x = r['x'] + (r['dx']/2),\n",
    "            y = r['y'] + (r['dy']/2),\n",
    "            text = \"{} - {}\".format(type_list[counter], values[counter]),\n",
    "            showarrow = False\n",
    "        )\n",
    "    )\n",
    "    counter = counter + 1\n",
    "    counter = counter % len(color_brewer)\n",
    "\n",
    "trace0 = go.Scatter(\n",
    "    x = [r['x'] + (r['dx']/2) for r in rects],\n",
    "    y = [r['y'] + (r['dy']/2) for r in rects],\n",
    "    text = [str(v) for v in values],\n",
    "    mode = 'text'\n",
    ")\n",
    "\n",
    "data = [trace0]\n",
    "\n",
    "layout = dict(\n",
    "    height=700,\n",
    "    width=700,\n",
    "    xaxis=dict(showgrid=False,zeroline=False),\n",
    "    yaxis=dict(showgrid=False,zeroline=False),\n",
    "    shapes=shapes,\n",
    "    annotations=annotations,\n",
    "    hovermode='closest',\n",
    "    font=dict(color=\"#FFFFFF\")\n",
    ")\n",
    "\n",
    "figure = dict(data=data, layout=layout)\n",
    "iplot(figure, filename ='squarify-treemap')\n",
    "    \n",
    "\n",
    "        "
   ]
  },
  {
   "cell_type": "markdown",
   "metadata": {},
   "source": [
    "# Bullet Chart \n",
    "\n",
    "Bullet charts are a variation of a bar chart developed by Stephen Few as a replacement for gauges and meters.\n",
    "\n",
    "The Bullet chart has the following advantages over the gauges.\n",
    "\n",
    "* Space saver – require less real estate, can be oriented horizontally and vertically based on the space available.\n",
    "* Display multiple measures\n",
    "* Easier to read and more informative\n",
    "\n",
    "The bullet graph consists of five primary components:\n",
    "\n",
    "* Performance Measure – The actual value of the metrics\n",
    "* Comparative Measures – One or two comparative/ target measures to compare the performance of the metrics against a give target value\n",
    "* Qualitative scale – To measure the metrics state i.e. good, bad or satisfactory\n",
    "* Quantitative scale – Linear X axis to measure the value of the metrics\n",
    "* Text label – For labeling the metric\n",
    "\n",
    "![title](inputs/bullet1.png)\n",
    "[Visualbi - BulletChart](http://visualbi.com/blogs/business-intelligence/dashboards/bullet-charts-use-cases/)\n"
   ]
  },
  {
   "cell_type": "code",
   "execution_count": null,
   "metadata": {},
   "outputs": [],
   "source": [
    "# Function for bullet chart\n",
    "def checkpokemonperformance(x):\n",
    "    x = pokemon[pokemon[\"Name\"] == x]\n",
    "    data = (\n",
    "      {\"label\": \"HP\", \"sublabel\": x[\"HP\"].values[0],\n",
    "       \"range\": [(max(pokemon[\"HP\"])*0.5), (max(pokemon[\"HP\"])*0.75), (max(pokemon[\"HP\"]))], \"performance\": [x[\"HP\"].values[0], x[\"HP\"].values[0]], \"point\": [max(pokemon['HP'])*0.55]},\n",
    "      {\"label\": \"Attack\", \"sublabel\": x[\"Attack\"].values[0],\n",
    "       \"range\": [(max(pokemon[\"Attack\"])*0.5), (max(pokemon[\"Attack\"])*0.75), (max(pokemon[\"Attack\"]))], \"performance\": [x[\"Attack\"].values[0], x[\"Attack\"].values[0]], \"point\": [max(pokemon[\"Attack\"])*0.55]},\n",
    "      {\"label\": \"Defense\", \"sublabel\": x[\"Defense\"].values[0],\n",
    "       \"range\": [(max(pokemon[\"Defense\"])*0.5), (max(pokemon[\"Defense\"])*0.75), (max(pokemon[\"Defense\"]))], \"performance\":  [x[\"Defense\"].values[0], x[\"Defense\"].values[0]], \"point\": [max(pokemon['Defense'])*0.55]},\n",
    "      {\"label\": \"Sp. Atk\", \"sublabel\": x[\"Sp. Atk\"].values[0],\n",
    "       \"range\": [(max(pokemon[\"Sp. Atk\"])*0.5), (max(pokemon[\"Sp. Atk\"])*0.75), (max(pokemon[\"Sp. Atk\"]))], \"performance\":  [x[\"Sp. Atk\"].values[0], x[\"Sp. Atk\"].values[0]], \"point\": [max(pokemon['Sp. Atk'])*0.55]},\n",
    "      {\"label\": \"Sp. Def\", \"sublabel\": x[\"Sp. Def\"].values[0],\n",
    "       \"range\": [(max(pokemon[\"Sp. Def\"])*0.5), (max(pokemon[\"Sp. Def\"])*0.75), (max(pokemon[\"Sp. Def\"]))], \"performance\":  [x[\"Sp. Def\"].values[0], x[\"Sp. Def\"].values[0]], \"point\": [max(pokemon['Sp. Def'])*0.55]},\n",
    "      {\"label\": \"Speed\", \"sublabel\": x[\"Speed\"].values[0],\n",
    "       \"range\": [(max(pokemon[\"Speed\"])*0.5), (max(pokemon[\"Speed\"])*0.75), (max(pokemon[\"Speed\"]))], \"performance\":  [x[\"Speed\"].values[0], x[\"Speed\"].values[0]], \"point\": [max(pokemon['Speed'])*0.55]},\n",
    "    )\n",
    "    \n",
    "    fig = ff.create_bullet(\n",
    "        data, titles='label', subtitles='sublabel', markers='point',\n",
    "        measures='performance', ranges='range', orientation='v', width=800, height=800\n",
    "    )\n",
    "    iplot(fig, filename='bullet chart')\n"
   ]
  },
  {
   "cell_type": "code",
   "execution_count": null,
   "metadata": {},
   "outputs": [],
   "source": [
    "checkpokemonperformance(\"Weedle\")"
   ]
  },
  {
   "cell_type": "code",
   "execution_count": null,
   "metadata": {},
   "outputs": [],
   "source": [
    "checkpokemonperformance(\"Furret\")"
   ]
  },
  {
   "cell_type": "markdown",
   "metadata": {},
   "source": [
    "# Scatterplot Matrix \n",
    "\n",
    "Scatter plot matrix is a grid (or matrix) of scatter plots used to visualize bivariate relationships between combinations of variables. Each scatter plot in the matrix visualizes the relationship between a pair of variables, allowing many relationships to be explored in one chart.\n",
    "\n",
    "[source](https://pro.arcgis.com/en/pro-app/help/analysis/geoprocessing/charts/scatter-plot-matrix.htm)"
   ]
  },
  {
   "cell_type": "code",
   "execution_count": null,
   "metadata": {},
   "outputs": [],
   "source": [
    "fig = ff.create_scatterplotmatrix(pokemon.iloc[:,4:11], index= 'Generation', diag= 'box', size=2, height = 800, width = 800)\n",
    "iplot(fig, filename ='Scatterplotmatrix')                   "
   ]
  },
  {
   "cell_type": "markdown",
   "metadata": {},
   "source": [
    "# Violin Plot \n",
    "\n",
    "A violin plot is a method of plotting numeric data. It is similar to a box plot, with the addition of a rotated kernel density plot on each side.\n",
    "\n",
    "Violin plots are similar to box plots, except that they also show the probability density of the data at different values, usually smoothed by a kernel density estimator. Typically a violin plot will include all the data that is in a box plot: a marker for the median of the data; a box or marker indicating the interquartile range; and possibly all sample points, if the number of samples is not too high.\n",
    "\n",
    "[source](https://en.wikipedia.org/wiki/Violin_plot#:~:text=A%20violin%20plot%20is%20a,by%20a%20kernel%20density%20estimator.)"
   ]
  },
  {
   "cell_type": "markdown",
   "metadata": {},
   "source": [
    "### Violin plot of all stats"
   ]
  },
  {
   "cell_type": "code",
   "execution_count": null,
   "metadata": {},
   "outputs": [],
   "source": [
    "data = []\n",
    "for i in range(4,10):\n",
    "    trace = {\n",
    "        \"type\": 'violin',\n",
    "        \"x\": max(pokemon.iloc[:,i]),\n",
    "        \"y\": pokemon.iloc[:,i],\n",
    "        \"name\": list(pokemon.columns)[i],\n",
    "        \"box\": {\n",
    "            \"visible\": True\n",
    "        }\n",
    "        }\n",
    "    data.append(trace)\n",
    "\n",
    "fig = {\n",
    "    \"data\": data,\n",
    "    \"layout\" : {\n",
    "        \"title\": \"Violin plot of all stats\",\n",
    "        \"yaxis\": {\n",
    "            \"zeroline\": False,\n",
    "        }\n",
    "        }\n",
    "    }\n",
    "    \n",
    "iplot(fig, filename = 'violin', validate = False)"
   ]
  },
  {
   "cell_type": "code",
   "execution_count": null,
   "metadata": {},
   "outputs": [],
   "source": [
    "list_my = [1, 2, 3, 5, 10, 15, 20, 25, 30, 44, 50, 60]\n",
    "for i in range (12):\n",
    "    print(list_my[i])"
   ]
  },
  {
   "cell_type": "code",
   "execution_count": null,
   "metadata": {},
   "outputs": [],
   "source": [
    "i = 5\n",
    "list_my[]"
   ]
  },
  {
   "cell_type": "code",
   "execution_count": null,
   "metadata": {},
   "outputs": [],
   "source": [
    "list_my = [1, 2, 3, 5, 10, 15, 20, 25, 30, 44, 50, 60]\n",
    "for i in range(len(list_my)):\n",
    "    print(list_my)"
   ]
  },
  {
   "cell_type": "code",
   "execution_count": null,
   "metadata": {},
   "outputs": [],
   "source": []
  }
 ],
 "metadata": {
  "kernelspec": {
   "display_name": "Python 3",
   "language": "python",
   "name": "python3"
  },
  "language_info": {
   "codemirror_mode": {
    "name": "ipython",
    "version": 3
   },
   "file_extension": ".py",
   "mimetype": "text/x-python",
   "name": "python",
   "nbconvert_exporter": "python",
   "pygments_lexer": "ipython3",
   "version": "3.7.6"
  }
 },
 "nbformat": 4,
 "nbformat_minor": 4
}
